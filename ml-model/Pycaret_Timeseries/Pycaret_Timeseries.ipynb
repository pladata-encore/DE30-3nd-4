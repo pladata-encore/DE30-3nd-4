{
 "cells": [
  {
   "cell_type": "markdown",
   "id": "e58c8c0a-2e09-442f-8751-e076659ce72e",
   "metadata": {},
   "source": [
    "# 1. 기존의 user_game_data csv파일 전처리 (컬럼명 변환, 데이터 수 10000개로 축소)"
   ]
  },
  {
   "cell_type": "code",
   "execution_count": null,
   "id": "528d4aa6-4312-41d9-8c82-bb937b82e6bf",
   "metadata": {},
   "outputs": [],
   "source": [
    "import pandas as pd\n",
    "\n",
    "df = pd.read_csv('~/Project/user_game_data (2).csv')\n",
    "df['userId'] = 1\n",
    "df['score'] = round(df['elapsedTime'])*5 + df['numKilled']*10\n",
    "df.rename(columns = {\n",
    "    'userId' : 'user_id',\n",
    "    'playedTime' : 'when_played',\n",
    "    'elapsedTime': 'elapsed_time',\n",
    "    'numKilled' : 'kill_count',\n",
    "},inplace=True)\n",
    "df_new = df.iloc[:10000]\n",
    "df_new.to_csv('~/Project/user_game_data.csv',index=False)\n",
    "df_new"
   ]
  },
  {
   "cell_type": "markdown",
   "id": "d00bf045-5067-451e-a7ac-74817a4fbb4f",
   "metadata": {},
   "source": [
    "# 2. Pycaret Forecasting을 통한 score 예측 모델 학습 "
   ]
  },
  {
   "cell_type": "code",
   "execution_count": null,
   "id": "7a57c1fb-74da-4c8d-96dc-43434f39eb8d",
   "metadata": {},
   "outputs": [],
   "source": [
    "!pip install pycaret"
   ]
  },
  {
   "cell_type": "code",
   "execution_count": null,
   "id": "45a64fad-cb31-4c16-b7d5-c8f99d297f92",
   "metadata": {},
   "outputs": [],
   "source": [
    "# 필요 모듈 import , 데이터 불러오기\n",
    "import pandas as pd\n",
    "# from pycaret.regression import *\n",
    "from pycaret.time_series import *\n",
    "# csv 불러오기\n",
    "df = pd.read_csv('~/Project/user_game_data.csv')\n",
    "# when_played 컬럼 날짜 12시간 단위로 재배치 \n",
    "start_date = '2010-09-22 12:00'\n",
    "end_date = '2024-05-31 00:00'\n",
    "date_range= pd.date_range(start=start_date,end=end_date,freq='12H')\n",
    "df['when_played'] = date_range[:len(df)]\n",
    "\n",
    "# Pycret automl을 사용하기위해 playedTime 속성을 index로 사용\n",
    "user_data = df.set_index('when_played')\n",
    "\n",
    "# 최소 데이터 포인트 수 설정 (예: 5)\n",
    "if len(user_data) < 5:\n",
    "  print(f\"User ID: {user_id} does not have enough data points.\")\n",
    "  pass\n",
    "# TSForecastingExperiment() 생성 \n",
    "exp = TSForecastingExperiment()\n",
    "exp.setup(data=user_data[['elapsed_time','kill_count','score']],\n",
    "          target='score',\n",
    "          session_id = '123', fh=1, fold = 5)\n",
    "# 최적 모델 비교 및 최적 모델 선택\n",
    "# setup()에서 설정한 데이터를 바탕으로 최적의 모델 산출\n",
    "best_model = exp.compare_models(sort='MAE')\n",
    "print(best_model)\n",
    "# 최적 모델 훈련\n",
    "final_model = exp.finalize_model(best_model)\n",
    "# 학습 모델 저장 \n",
    "_ = exp.save_model(final_model, \"final_model\")"
   ]
  },
  {
   "cell_type": "markdown",
   "id": "95c15cd8-11a3-4f72-bc7a-0d34026f865d",
   "metadata": {},
   "source": [
    "# 3. 외생변수 예측하기"
   ]
  },
  {
   "cell_type": "code",
   "execution_count": null,
   "id": "82dac628-2a31-4031-a07f-f9924083a575",
   "metadata": {},
   "outputs": [],
   "source": [
    "# 1. 사용할 외생변수 추출\n",
    "exog_vars = ['elapsedTime',\t'numKilled']\n",
    "data = user_data[exog_vars]\n",
    "# 2 : 외생변수 각각에 대한 시계열 예측 수행\n",
    "'''\n",
    "주의할 점 -> 기존 user_data의 외래변수를 예측하는 과정 예측하기 전에 이전 시점에서 진행한 게임에 대한 데이터를 user_data에 행 추가를 \n",
    "진행한 뒤에 외래변수 예측 \n",
    "-> 영향이 많이 없을수도 있으나 이전 시점의 영향을 반영하기 위함 \n",
    "'''\n",
    "exog_exps = []\n",
    "exog_models = []\n",
    "# global_fig_settings = {'figsize': (10, 6)}\n",
    "for exog_var in exog_vars:\n",
    "    # 외생변수에 대한 예측을 도출하기 위하여 시계열 실험 생성\n",
    "    exog_exp = TSForecastingExperiment()\n",
    "    # setup\n",
    "    exog_exp.setup(\n",
    "        data=data[[exog_var]],\n",
    "        target=exog_var,\n",
    "        fh=1,\n",
    "        session_id=42,\n",
    "        verbose=False,\n",
    "    )\n",
    "\n",
    "    # 사용자는 미래 외생 변수를 모델링하는 방법을 사용자 정의할 수 있습니다.\n",
    "    # 즉, 모델링 시간이 늘어나는 대신 더 나은 모델을 얻을 수 있는 추가 단계와 모델을 추가할 수 있습니다.\n",
    "    best = exog_exp.compare_models(\n",
    "        sort=\"mae\",\n",
    "        verbose=False,\n",
    "    )\n",
    "    final_exog_model = exog_exp.finalize_model(best)\n",
    "\n",
    "    exog_exps.append(exog_exp)\n",
    "    exog_models.append(final_exog_model)\n",
    "    \n",
    "# 3: 외생 변수에 대한 미래 예측 얻기\n",
    "future_exog = [exog_exp.predict_model(exog_model) for exog_exp, exog_model in zip(exog_exps, exog_models)]\n",
    "#print(future_exog[0])   # elapsedTime 예측값\n",
    "#print(future_exog[1])   # numKilled 예측값 \n",
    "# 4. 예측값 concat\n",
    "future_exog = pd.concat(future_exog, axis=1)\n",
    "future_exog.columns = exog_vars\n",
    "future_exog"
   ]
  },
  {
   "cell_type": "markdown",
   "id": "7ff1851a-ca22-4e8d-bf23-d39c1e1f3ad3",
   "metadata": {},
   "source": [
    "# 4. 모델을 로드하고 목표 변수에 대한 미래 예측하기 "
   ]
  },
  {
   "cell_type": "code",
   "execution_count": null,
   "id": "c339fbc2-35c5-4550-8316-8b8b2818c014",
   "metadata": {},
   "outputs": [],
   "source": [
    "# 미래 예측용 시계열 실험 생성\n",
    "exp_future = TSForecastingExperiment()\n",
    "# 이전에 저장한 모델 로드\n",
    "final_slim_model = exp_future.load_model(\"final_model\")\n",
    "# 최종 예측\n",
    "future_preds = exp_future.predict_model(\n",
    "    final_slim_model,  # 모델 입력\n",
    "    X=future_exog,  # 외생변수 입력\n",
    ")\n",
    "future_preds"
   ]
  }
 ],
 "metadata": {
  "kernelspec": {
   "display_name": "Python 3 (ipykernel)",
   "language": "python",
   "name": "python3"
  },
  "language_info": {
   "codemirror_mode": {
    "name": "ipython",
    "version": 3
   },
   "file_extension": ".py",
   "mimetype": "text/x-python",
   "name": "python",
   "nbconvert_exporter": "python",
   "pygments_lexer": "ipython3",
   "version": "3.11.7"
  }
 },
 "nbformat": 4,
 "nbformat_minor": 5
}
